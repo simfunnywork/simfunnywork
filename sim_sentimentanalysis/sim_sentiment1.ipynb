{
 "cells": [
  {
   "cell_type": "code",
   "execution_count": null,
   "metadata": {},
   "outputs": [],
   "source": [
    "import os\n",
    "from konlpy.tag import Kkma\n",
    "\n",
    "content = []\n",
    "f = open(\"dff.csv\", mode='r')\n",
    "inside1 = f.read()\n",
    "inside2 = inside1.replace('\\n', '')\n",
    "inside2 = inside1.replace(\"'\", \"\")\n",
    "inside2 = inside2.split(sep = ' ')\n",
    "kkma = Kkma()\n",
    "content = kkma.nouns(inside1)\n",
    "\n",
    "f_w = open('dffwrite.csv', mode='w')\n",
    "for each in content:\n",
    "    f_w.write('\"')\n",
    "    f_w.write(each)\n",
    "    f_w.write('\"')\n",
    "    f_w.write(',')\n",
    "    f_w.write('\\n')\n",
    "f.close()"
   ]
  },
  {
   "cell_type": "code",
   "execution_count": null,
   "metadata": {},
   "outputs": [],
   "source": [
    "import os\n",
    "from konlpy.tag import Kkma\n",
    "from more_itertools import unique_everseen\n",
    "\n",
    "f1 = open(\"positive.csv\", mode='r').read()\n",
    "the_content1 = eval(input(f1))\n",
    "revised_content1 = list(unique_everseen(the_content1[\"Positive\"]))\n",
    "f_w1 = open(\"Positive.csv\", mode='w')\n",
    "f_w1.write('{\"positive\":[')\n",
    "for each in revised_content1:\n",
    "    f_w1.write(\"'\")\n",
    "    f_w1.write(each)\n",
    "    f_w1.write('\"')\n",
    "    f_w1.write(',')\n",
    "    f_w1.write('\\n') \n",
    "f_w1.write(']}')\n",
    "f_w1.close()\n",
    "f1.close()\n",
    "\n",
    "f1 = open(\"Positive\", mode='r')\n",
    "the_content1 = eval(f1.read())"
   ]
  },
  {
   "cell_type": "code",
   "execution_count": null,
   "metadata": {},
   "outputs": [],
   "source": [
    "f2 = open(\"negative.csv\", mode='r').read()\n",
    "the_content2 = eval(input(f2))\n",
    "revised_content2 = list(unique_everseen(the_content2[\"Negative\"]))\n",
    "f_w2 = open(\"Negative.csv\", mode='w')\n",
    "f_w2.write('{\"negative\":[')\n",
    "for each in revised_content1:\n",
    "    f_w2.write(\"'\")\n",
    "    f_w2.write(each)\n",
    "    f_w2.write('\"')\n",
    "    f_w2.write(',')\n",
    "    f_w2.write('\\n') \n",
    "f_w2.write(']}')\n",
    "f_w2.close()\n",
    "f2.colose()\n",
    "\n",
    "f2 = open(\"Negative\", mode='r')\n",
    "the_content2 = eval(f2.read())"
   ]
  },
  {
   "cell_type": "code",
   "execution_count": null,
   "metadata": {},
   "outputs": [],
   "source": [
    "import os\n",
    "from konlpy.tag import Kkma\n",
    "from more_itertools import unique_everseen\n",
    "content = []\n",
    "f = open(\"dff.csv\", mode='r')\n",
    "inside1 = f.read()\n",
    "inside2 = inside1.replace('\\n', '')\n",
    "inside2 = inside1.replace(\"'\", \"\")\n",
    "inside2 = inside2.split(sep = ' ')\n",
    "kkma = Kkma()\n",
    "content = kkma.nouns(inside1)\n",
    "\n",
    "Today_News = content\n",
    "Today_Positive = []\n",
    "Today_Neutral = []\n",
    "\n",
    "for i in Today_News:\n",
    "    for p in the_content1[\"Positive\"]:\n",
    "        if (i == p):\n",
    "            Today_Positive.append(i)\n",
    "\n",
    "    for neg in the_content2[\"Negative\"]:\n",
    "        if (i == neg):\n",
    "            Today_Negative.append(i)"
   ]
  },
  {
   "cell_type": "code",
   "execution_count": null,
   "metadata": {},
   "outputs": [],
   "source": [
    "import matplotlib.pyplot as plt\n",
    "fig = plt.figure()\n",
    "fig.patch.set_facecolor('white')\n",
    "P = len(Today_Positive)\n",
    "Neg = len(Today_Negative)\n",
    "labels ='Positive Words', 'Negative Words'\n",
    "sizes = [P, Neg]\n",
    "colors = ['Blue','Red']\n",
    "plt.axis('equal')\n",
    "plot.title('Sentimental Analysis of Chatbot')\n",
    "plt.rcParams.update({'font.size':22})\n",
    "_,_,autotexts = plt.pie(sizes, labels=labels, colors=colors, autopct='&1.1f%%',shadow=False,startangle=90)\n",
    "for autotext in autotexts:\n",
    "    autotext.set_color('white')\n",
    "plt.show()"
   ]
  }
 ],
 "metadata": {
  "kernelspec": {
   "display_name": "Python 3",
   "language": "python",
   "name": "python3"
  },
  "language_info": {
   "codemirror_mode": {
    "name": "ipython",
    "version": 3
   },
   "file_extension": ".py",
   "mimetype": "text/x-python",
   "name": "python",
   "nbconvert_exporter": "python",
   "pygments_lexer": "ipython3",
   "version": "3.6.1"
  },
  "toc": {
   "nav_menu": {},
   "number_sections": true,
   "sideBar": true,
   "skip_h1_title": false,
   "title_cell": "Table of Contents",
   "title_sidebar": "Contents",
   "toc_cell": false,
   "toc_position": {},
   "toc_section_display": true,
   "toc_window_display": false
  }
 },
 "nbformat": 4,
 "nbformat_minor": 2
}
